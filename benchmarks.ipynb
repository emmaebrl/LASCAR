{
 "cells": [
  {
   "cell_type": "code",
   "execution_count": 1,
   "metadata": {},
   "outputs": [],
   "source": [
    "import datetime\n",
    "import random\n",
    "import numpy as np\n",
    "import pandas as pd\n",
    "import tensorflow as tf\n",
    "from pathlib import Path\n",
    "from framework.dataset import LandCoverData as LCD, parse_image, load_image_train, load_image_test\n",
    "from framework.model import UNet\n",
    "from framework.tensorflow_utils import plot_predictions\n",
    "from framework.utils import YamlNamespace\n",
    "from framework.train import PlotCallback"
   ]
  },
  {
   "cell_type": "code",
   "execution_count": 2,
   "metadata": {},
   "outputs": [],
   "source": [
    "# Configuration\n",
    "config = YamlNamespace({\n",
    "    'xp_rootdir': Path('./experiments').expanduser(),\n",
    "    'dataset_folder': Path('./data').expanduser(),\n",
    "    'batch_size': 8,\n",
    "    'epochs': 5,\n",
    "    'lr': 1e-4,\n",
    "    'seed': 42,\n",
    "    'val_samples_csv': None\n",
    "})\n",
    "config.xp_rootdir.mkdir(parents=True, exist_ok=True)\n",
    "config.dataset_folder.mkdir(parents=True, exist_ok=True)\n",
    "\n",
    "# Set random seed for reproducibility\n",
    "random.seed(config.seed)\n",
    "np.random.seed(config.seed)\n",
    "tf.random.set_seed(config.seed)"
   ]
  },
  {
   "cell_type": "code",
   "execution_count": 3,
   "metadata": {},
   "outputs": [],
   "source": [
    "# Sample data\n",
    "train_files = list(map(str, config.dataset_folder.glob('train/images/*.tif')))[:100]\n",
    "val_files = list(map(str, config.dataset_folder.glob('test/images/*.tif')))[:20]\n",
    "\n",
    "# Create datasets\n",
    "train_dataset = tf.data.Dataset.from_tensor_slices(train_files)\\\n",
    "    .map(parse_image, num_parallel_calls=tf.data.experimental.AUTOTUNE)\\\n",
    "    .map(load_image_train, num_parallel_calls=tf.data.experimental.AUTOTUNE)\\\n",
    "    .shuffle(buffer_size=1024, seed=config.seed)\\\n",
    "    .repeat()\\\n",
    "    .batch(config.batch_size)\\\n",
    "    .prefetch(buffer_size=tf.data.experimental.AUTOTUNE)\n",
    "\n",
    "val_dataset = tf.data.Dataset.from_tensor_slices(val_files)\\\n",
    "    .map(parse_image, num_parallel_calls=tf.data.experimental.AUTOTUNE)\\\n",
    "    .map(load_image_test, num_parallel_calls=tf.data.experimental.AUTOTUNE)\\\n",
    "    .repeat()\\\n",
    "    .batch(config.batch_size)\\\n",
    "    .prefetch(buffer_size=tf.data.experimental.AUTOTUNE)"
   ]
  },
  {
   "cell_type": "code",
   "execution_count": 4,
   "metadata": {},
   "outputs": [],
   "source": [
    "# Create U-Net model\n",
    "unet_kwargs = dict(\n",
    "    input_shape=(LCD.IMG_SIZE, LCD.IMG_SIZE, LCD.N_CHANNELS),\n",
    "    num_classes=LCD.N_CLASSES,\n",
    "    num_layers=2\n",
    ")\n",
    "model = UNet(**unet_kwargs)"
   ]
  },
  {
   "cell_type": "code",
   "execution_count": 5,
   "metadata": {},
   "outputs": [],
   "source": [
    "# Compile model\n",
    "optimizer = tf.keras.optimizers.Adam(learning_rate=config.lr)\n",
    "loss = tf.keras.losses.SparseCategoricalCrossentropy(from_logits=False)\n",
    "model.compile(optimizer=optimizer, loss=loss, metrics=[])\n",
    "\n",
    "# Callbacks\n",
    "xp_dir = config.xp_rootdir / datetime.datetime.now().strftime('%d-%m-%Y_%H-%M-%S')\n",
    "xp_dir.mkdir(parents=True)\n",
    "callbacks = [\n",
    "    PlotCallback(save_folder=xp_dir/'plots', num=5),\n",
    "    tf.keras.callbacks.TensorBoard(log_dir=xp_dir/'tensorboard', update_freq='epoch'),\n",
    "    tf.keras.callbacks.ModelCheckpoint(filepath=xp_dir/'checkpoints/epoch{epoch}.keras', save_best_only=False, verbose=1),\n",
    "    tf.keras.callbacks.CSVLogger(filename=(xp_dir/'fit_logs.csv')),\n",
    "    tf.keras.callbacks.ReduceLROnPlateau(patience=20, factor=0.5, verbose=1)\n",
    "]"
   ]
  },
  {
   "cell_type": "code",
   "execution_count": 6,
   "metadata": {},
   "outputs": [
    {
     "data": {
      "text/plain": [
       "[<framework.train.PlotCallback at 0x22895800ef0>,\n",
       " <keras.src.callbacks.tensorboard.TensorBoard at 0x22895801460>,\n",
       " <keras.src.callbacks.model_checkpoint.ModelCheckpoint at 0x2289525b0e0>,\n",
       " <keras.src.callbacks.csv_logger.CSVLogger at 0x2289585b1d0>,\n",
       " <keras.src.callbacks.reduce_lr_on_plateau.ReduceLROnPlateau at 0x228952df110>]"
      ]
     },
     "execution_count": 6,
     "metadata": {},
     "output_type": "execute_result"
    }
   ],
   "source": [
    "callbacks"
   ]
  },
  {
   "cell_type": "code",
   "execution_count": null,
   "metadata": {},
   "outputs": [
    {
     "name": "stdout",
     "output_type": "stream",
     "text": [
      "Epoch 1/5\n"
     ]
    },
    {
     "name": "stderr",
     "output_type": "stream",
     "text": [
      "c:\\Users\\emmae\\OneDrive\\Documents\\M2\\S2\\LASCAR\\.venv\\Lib\\site-packages\\keras\\src\\models\\functional.py:237: UserWarning: The structure of `inputs` doesn't match the expected structure.\n",
      "Expected: ['keras_tensor']\n",
      "Received: inputs=Tensor(shape=(None, 256, 256, 4))\n",
      "  warnings.warn(msg)\n"
     ]
    },
    {
     "name": "stdout",
     "output_type": "stream",
     "text": [
      "\u001b[1m 7/12\u001b[0m \u001b[32m━━━━━━━━━━━\u001b[0m\u001b[37m━━━━━━━━━\u001b[0m \u001b[1m2:40\u001b[0m 32s/step - loss: 2.6261"
     ]
    }
   ],
   "source": [
    "# Train model\n",
    "history = model.fit(\n",
    "    train_dataset,\n",
    "    epochs=config.epochs,\n",
    "    # callbacks=callbacks,\n",
    "    steps_per_epoch=len(train_files) // config.batch_size,\n",
    "    validation_data=val_dataset,\n",
    "    validation_steps=len(val_files) // config.batch_size\n",
    ")"
   ]
  },
  {
   "cell_type": "code",
   "execution_count": null,
   "metadata": {},
   "outputs": [],
   "source": [
    "# Evaluate model\n",
    "val_samples_s = pd.Series([int(f.stem) for f in val_files], name='sample_id', dtype='uint32')\n",
    "val_samples_s.to_csv(xp_dir/'val_samples.csv', index=False)\n",
    "model.evaluate(val_dataset, steps=len(val_files) // config.batch_size)"
   ]
  }
 ],
 "metadata": {
  "kernelspec": {
   "display_name": ".venv",
   "language": "python",
   "name": "python3"
  },
  "language_info": {
   "codemirror_mode": {
    "name": "ipython",
    "version": 3
   },
   "file_extension": ".py",
   "mimetype": "text/x-python",
   "name": "python",
   "nbconvert_exporter": "python",
   "pygments_lexer": "ipython3",
   "version": "3.12.8"
  }
 },
 "nbformat": 4,
 "nbformat_minor": 2
}
