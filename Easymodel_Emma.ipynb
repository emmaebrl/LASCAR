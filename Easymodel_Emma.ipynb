{
  "cells": [
    {
      "cell_type": "markdown",
      "metadata": {
        "colab_type": "text",
        "id": "view-in-github"
      },
      "source": [
        "<a href=\"https://colab.research.google.com/github/emmaebrl/LASCAR/blob/main/Easymodel.ipynb\" target=\"_parent\"><img src=\"https://colab.research.google.com/assets/colab-badge.svg\" alt=\"Open In Colab\"/></a>"
      ]
    },
    {
      "cell_type": "code",
      "execution_count": 1,
      "metadata": {
        "id": "-3h786ex6dvK"
      },
      "outputs": [
        {
          "name": "stderr",
          "output_type": "stream",
          "text": [
            "c:\\Users\\emmae\\OneDrive\\Documents\\M2\\S2\\LASCAR\\.venv\\Lib\\site-packages\\albumentations\\check_version.py:107: UserWarning: Error fetching version info <urlopen error [Errno 11001] getaddrinfo failed>\n",
            "  data = fetch_version_info()\n"
          ]
        }
      ],
      "source": [
        "import numpy as np\n",
        "import pandas as pd\n",
        "import torch\n",
        "import torch.nn as nn\n",
        "from torch.utils.data import Dataset, DataLoader\n",
        "from sklearn.model_selection import train_test_split\n",
        "import albumentations as A\n",
        "from albumentations.pytorch import ToTensorV2\n",
        "from tqdm.notebook import tqdm\n",
        "import random\n",
        "import os\n",
        "import rasterio\n",
        "from pathlib import Path\n",
        "import json"
      ]
    },
    {
      "cell_type": "markdown",
      "metadata": {
        "id": "mD7e6NlAtu0L"
      },
      "source": [
        "**Configuration**"
      ]
    },
    {
      "cell_type": "code",
      "execution_count": 2,
      "metadata": {
        "id": "mXTwXFyb6dyg"
      },
      "outputs": [],
      "source": [
        "# ✅ Chemins absolus complets\n",
        "TRAIN_IMG_DIR = r'data\\train\\images'\n",
        "TRAIN_MASK_DIR = r'data\\train\\masks'\n",
        "PROPORTION_CSV = r'data\\train_labels_GY1QjFw.csv'\n",
        "TEST_IMG_DIR = r'data\\test\\images'\n",
        "TEST_CSV_PATH = r'data\\test_images_kkwOpBC.csv'"
      ]
    },
    {
      "cell_type": "code",
      "execution_count": 3,
      "metadata": {},
      "outputs": [],
      "source": [
        "def seed_everything(seed=42):\n",
        "    random.seed(seed)\n",
        "    np.random.seed(seed)\n",
        "    torch.manual_seed(seed)\n",
        "    torch.cuda.manual_seed_all(seed)  # si tu utilises le GPU\n",
        "    torch.backends.cudnn.deterministic = True\n",
        "    torch.backends.cudnn.benchmark = False  # pour reproductibilité\n",
        "\n",
        "seed_everything(42)"
      ]
    },
    {
      "cell_type": "code",
      "execution_count": 4,
      "metadata": {
        "colab": {
          "base_uri": "https://localhost:8080/"
        },
        "id": "E-fOjr086d1H",
        "outputId": "4d27f602-5c02-4a14-a9f9-2744bc6bde9a"
      },
      "outputs": [
        {
          "name": "stdout",
          "output_type": "stream",
          "text": [
            "cpu\n"
          ]
        }
      ],
      "source": [
        "DEVICE = torch.device(\"cuda\" if torch.cuda.is_available() else \"cpu\")\n",
        "print(DEVICE)\n",
        "BATCH_SIZE = 8\n",
        "IMG_SIZE = 256"
      ]
    },
    {
      "cell_type": "code",
      "execution_count": 5,
      "metadata": {
        "id": "kUdEeR0X65I6"
      },
      "outputs": [],
      "source": [
        "# ✅ Chargement des données\n",
        "def load_tif(path):\n",
        "    path = os.path.normpath(path)  # standardise les séparateurs\n",
        "    if not os.path.exists(path):\n",
        "        raise FileNotFoundError(f\"Fichier introuvable : {path}\")\n",
        "    with rasterio.open(path) as src:\n",
        "        img = src.read()\n",
        "        img = np.transpose(img, (1, 2, 0))\n",
        "    return img"
      ]
    },
    {
      "cell_type": "code",
      "execution_count": 6,
      "metadata": {
        "id": "w2d3ioMBveVB"
      },
      "outputs": [],
      "source": [
        "# Charger CSV\n",
        "df = pd.read_csv(PROPORTION_CSV)\n",
        "image_paths = [os.path.join(TRAIN_IMG_DIR, f\"{str(f)}.tif\") for f in df['sample_id']]\n",
        "selected_classes = ['no_data', 'clouds','cultivated', 'herbaceous', 'broadleaf', 'coniferous', 'artificial', 'water', 'natural', 'snow', ]\n",
        "\n",
        "NUM_CLASSES = len(selected_classes)\n",
        "targets = df[selected_classes].values"
      ]
    },
    {
      "cell_type": "code",
      "execution_count": 7,
      "metadata": {
        "id": "dzvPYaMW68qI"
      },
      "outputs": [],
      "source": [
        "# ================== TRANSFORMS ==================\n",
        "train_transform = A.Compose([\n",
        "    A.Resize(IMG_SIZE, IMG_SIZE),\n",
        "    A.Normalize(),\n",
        "    ToTensorV2(),\n",
        "])"
      ]
    },
    {
      "cell_type": "markdown",
      "metadata": {
        "id": "xJ8vA-Mvt28h"
      },
      "source": [
        "**Méthode 1: Régression c'est à dire on prédit les proportions directement**"
      ]
    },
    {
      "cell_type": "code",
      "execution_count": 8,
      "metadata": {
        "id": "njbcvTi868u4"
      },
      "outputs": [],
      "source": [
        "# ================== DATASET 1 - Regression ==================\n",
        "class ProportionDataset(Dataset):\n",
        "    def __init__(self, image_paths, targets, transform=None):\n",
        "        self.image_paths = image_paths\n",
        "        self.targets = targets\n",
        "        self.transform = transform\n",
        "\n",
        "    def __len__(self):\n",
        "        return len(self.image_paths)\n",
        "\n",
        "    def __getitem__(self, idx):\n",
        "        img = load_tif(self.image_paths[idx])\n",
        "        if self.transform:\n",
        "            img = self.transform(image=img)['image']\n",
        "        target = torch.tensor(self.targets[idx], dtype=torch.float32)\n",
        "        return img, target\n",
        "\n",
        "# ================== MODEL 1 - Proportion Regression ==================\n",
        "class SimpleCNN(nn.Module):\n",
        "    def __init__(self, num_classes):\n",
        "        super().__init__()\n",
        "        self.encoder = nn.Sequential(\n",
        "            nn.Conv2d(4, 32, 3, padding=1), nn.ReLU(), nn.MaxPool2d(2),\n",
        "            nn.Conv2d(32, 64, 3, padding=1), nn.ReLU(), nn.MaxPool2d(2),\n",
        "            nn.Conv2d(64, 128, 3, padding=1), nn.ReLU(), nn.AdaptiveAvgPool2d(1),\n",
        "            nn.Dropout(0.3)\n",
        "        )\n",
        "        self.fc = nn.Linear(128, num_classes)\n",
        "\n",
        "    def forward(self, x):\n",
        "        x = self.encoder(x)\n",
        "        x = x.view(x.size(0), -1)\n",
        "        return torch.log_softmax(self.fc(x), dim=1)\n",
        "    \n",
        "### MODIF DEBUT - Ajout de la validation loss pour le modèle 1 ###\n",
        "def validate_model(model, val_loader, criterion):\n",
        "    model.eval()\n",
        "    val_loss = 0\n",
        "    with torch.no_grad():\n",
        "        for x, y in val_loader:\n",
        "            x, y = x.to(DEVICE), y.to(DEVICE)\n",
        "            preds = model(x)\n",
        "            loss = criterion(preds, y)\n",
        "            val_loss += loss.item()\n",
        "    return val_loss / len(val_loader)\n",
        "### MODIF FIN ###\n",
        "\n",
        "\n",
        "# ================== TRAINING LOOP ==================\n",
        "### MODIF DEBUT - Ajout du calcul de val_loss dans train_model ###\n",
        "def train_model(model, train_loader, val_loader, criterion, optimizer, epochs=5):\n",
        "    model.to(DEVICE)\n",
        "    for epoch in range(epochs):\n",
        "        model.train()\n",
        "        total_loss = 0\n",
        "        loop = tqdm(train_loader, desc=f\"Epoch {epoch+1}/{epochs}\")\n",
        "        for x, y in loop:\n",
        "            x, y = x.to(DEVICE), y.to(DEVICE)\n",
        "            optimizer.zero_grad()\n",
        "            preds = model(x)\n",
        "            loss = criterion(preds, y)\n",
        "            loss.backward()\n",
        "            optimizer.step()\n",
        "            total_loss += loss.item()\n",
        "            loop.set_postfix(loss=loss.item())\n",
        "        \n",
        "        val_loss = validate_model(model, val_loader, criterion)\n",
        "        print(f\"Epoch {epoch+1}: Train Loss = {total_loss / len(train_loader):.4f} | Val Loss = {val_loss:.4f}\")\n",
        "### MODIF FIN ###"
      ]
    },
    {
      "cell_type": "code",
      "execution_count": 9,
      "metadata": {
        "colab": {
          "base_uri": "https://localhost:8080/",
          "height": 237,
          "referenced_widgets": [
            "ebe419efab7d45448e54e0fe297ce362",
            "52c0ccd73e9b4824882f4a05a76cd4db",
            "20cc1c6e114b4118b1d25e0e99086cf8",
            "de37066cf9674164a96e049c4dea6b94",
            "4839e5487dfb4a2da0c230158c13c04b",
            "201a549ab09849eeba27e0f60a1ac0f1",
            "b891dfc6d29145cd9e969e1361131e58",
            "5a8effb4e96f43a8b03e2017ef71b66d",
            "751b37afbeca40e88f5f239cc6b2b414",
            "68de03e642e649b3b24c817e781bf61d",
            "ac2baec221374bf496146fcb13c0f7fd",
            "37548a6d7cbb4b1fa3e3cca6f35b7f70",
            "5ec10c0f40374259a6c947f2c988c2ec",
            "94086f79519144619c3437f94bf592c9",
            "daa67a0ac8ae4d309815443cd41095a4",
            "f09890d0d87f47d5adbac430f6b2207e",
            "2a7fc8f2f0cf4958a9c3d6e73300f329",
            "83ba6305ee6943129486f4b8feb67262",
            "c6e2aee5d6a248bebf30a0730c3ba370",
            "9e3eca93cffd47a380c7581224ed8184",
            "24429201e06d48ac9c788233aa34a97f",
            "b9faa40b5f114c7ea3bb4da1265227db",
            "b3cb6335066148448245c138690f1aa5",
            "5972eda4493344e0b38a04b3c68a20f0",
            "627da28d32094e1aba76d3e4ebb6bd90",
            "cad45dbe7ecd4f04b1005bc1efc896fa",
            "3f73b7f9076c48e29e2f0fb87e9ac044",
            "af91142ea7e94b7cbd96e9ca09b59f75",
            "7684fc1c01fd4bfb848f33e068b62ec8",
            "43a79a6b420a44a2bab33b30a10840dc",
            "2f19344083764634b800a3933d5c5c89",
            "e3fcbef2dc5a40c59e2c50c50e7e8239",
            "efe0482098c04e408fcaa4c12ec49715"
          ]
        },
        "id": "qgTdO5Sr65Gl",
        "outputId": "bfe4b606-8536-4092-cd0c-d59a88b32218"
      },
      "outputs": [
        {
          "name": "stdout",
          "output_type": "stream",
          "text": [
            "Training Model 1 (Regression)...\n"
          ]
        },
        {
          "data": {
            "application/vnd.jupyter.widget-view+json": {
              "model_id": "8cb9b3b36f134e1593d5e436ce2c1239",
              "version_major": 2,
              "version_minor": 0
            },
            "text/plain": [
              "Epoch 1/8:   0%|          | 0/1849 [00:00<?, ?it/s]"
            ]
          },
          "metadata": {},
          "output_type": "display_data"
        },
        {
          "name": "stderr",
          "output_type": "stream",
          "text": [
            "c:\\Users\\emmae\\OneDrive\\Documents\\M2\\S2\\LASCAR\\.venv\\Lib\\site-packages\\rasterio\\__init__.py:368: NotGeoreferencedWarning: Dataset has no geotransform, gcps, or rpcs. The identity matrix will be returned.\n",
            "  dataset = DatasetReader(path, driver=driver, sharing=sharing, **kwargs)\n"
          ]
        },
        {
          "name": "stdout",
          "output_type": "stream",
          "text": [
            "Epoch 1: Train Loss = 0.2079 | Val Loss = 0.1159\n"
          ]
        },
        {
          "data": {
            "application/vnd.jupyter.widget-view+json": {
              "model_id": "99cdf04fe11b4d57b9e007924215631e",
              "version_major": 2,
              "version_minor": 0
            },
            "text/plain": [
              "Epoch 2/8:   0%|          | 0/1849 [00:00<?, ?it/s]"
            ]
          },
          "metadata": {},
          "output_type": "display_data"
        },
        {
          "name": "stdout",
          "output_type": "stream",
          "text": [
            "Epoch 2: Train Loss = 0.1239 | Val Loss = 0.0928\n"
          ]
        },
        {
          "data": {
            "application/vnd.jupyter.widget-view+json": {
              "model_id": "5e079e2166b34ef6ac664a2aab707fb8",
              "version_major": 2,
              "version_minor": 0
            },
            "text/plain": [
              "Epoch 3/8:   0%|          | 0/1849 [00:00<?, ?it/s]"
            ]
          },
          "metadata": {},
          "output_type": "display_data"
        },
        {
          "name": "stdout",
          "output_type": "stream",
          "text": [
            "Epoch 3: Train Loss = 0.1009 | Val Loss = 0.0773\n"
          ]
        },
        {
          "data": {
            "application/vnd.jupyter.widget-view+json": {
              "model_id": "ad099966c8974d8facacb0baeb40910c",
              "version_major": 2,
              "version_minor": 0
            },
            "text/plain": [
              "Epoch 4/8:   0%|          | 0/1849 [00:00<?, ?it/s]"
            ]
          },
          "metadata": {},
          "output_type": "display_data"
        },
        {
          "name": "stdout",
          "output_type": "stream",
          "text": [
            "Epoch 4: Train Loss = 0.0902 | Val Loss = 0.0700\n"
          ]
        },
        {
          "data": {
            "application/vnd.jupyter.widget-view+json": {
              "model_id": "3808c35b2e4e4f03b6d42fe35b979fc2",
              "version_major": 2,
              "version_minor": 0
            },
            "text/plain": [
              "Epoch 5/8:   0%|          | 0/1849 [00:00<?, ?it/s]"
            ]
          },
          "metadata": {},
          "output_type": "display_data"
        },
        {
          "name": "stdout",
          "output_type": "stream",
          "text": [
            "Epoch 5: Train Loss = 0.0854 | Val Loss = 0.0663\n"
          ]
        },
        {
          "data": {
            "application/vnd.jupyter.widget-view+json": {
              "model_id": "41a97166686740f39a845e13557f0735",
              "version_major": 2,
              "version_minor": 0
            },
            "text/plain": [
              "Epoch 6/8:   0%|          | 0/1849 [00:00<?, ?it/s]"
            ]
          },
          "metadata": {},
          "output_type": "display_data"
        },
        {
          "name": "stdout",
          "output_type": "stream",
          "text": [
            "Epoch 6: Train Loss = 0.0811 | Val Loss = 0.0638\n"
          ]
        },
        {
          "data": {
            "application/vnd.jupyter.widget-view+json": {
              "model_id": "6e87891e4948457db6246ce79f4799bb",
              "version_major": 2,
              "version_minor": 0
            },
            "text/plain": [
              "Epoch 7/8:   0%|          | 0/1849 [00:00<?, ?it/s]"
            ]
          },
          "metadata": {},
          "output_type": "display_data"
        },
        {
          "name": "stdout",
          "output_type": "stream",
          "text": [
            "Epoch 7: Train Loss = 0.0763 | Val Loss = 0.0688\n"
          ]
        },
        {
          "data": {
            "application/vnd.jupyter.widget-view+json": {
              "model_id": "824edbf353184d18a61ad412ffd726b0",
              "version_major": 2,
              "version_minor": 0
            },
            "text/plain": [
              "Epoch 8/8:   0%|          | 0/1849 [00:00<?, ?it/s]"
            ]
          },
          "metadata": {},
          "output_type": "display_data"
        },
        {
          "name": "stdout",
          "output_type": "stream",
          "text": [
            "Epoch 8: Train Loss = 0.0747 | Val Loss = 0.0623\n"
          ]
        }
      ],
      "source": [
        "# Split et Dataset\n",
        "train_imgs, val_imgs, train_y, val_y = train_test_split(image_paths, targets, test_size=0.2, random_state=42, stratify=targets.argmax(axis=1))\n",
        "\n",
        "train_ids = [Path(p).stem for p in train_imgs]\n",
        "val_ids = [Path(p).stem for p in val_imgs]\n",
        "\n",
        "# Sauvegarder dans un fichier JSON (ou CSV si tu préfères)\n",
        "with open(\"splits/train_val_ids.json\", \"w\") as f:\n",
        "    json.dump({\"train\": train_ids, \"val\": val_ids}, f)\n",
        "\n",
        "train_ds = ProportionDataset(train_imgs, train_y, transform=train_transform)\n",
        "train_loader = DataLoader(train_ds, batch_size=BATCH_SIZE, shuffle=True)\n",
        "\n",
        "val_ds = ProportionDataset(val_imgs, val_y, transform=train_transform)\n",
        "val_loader = DataLoader(val_ds, batch_size=BATCH_SIZE, shuffle=False)\n",
        "# Model\n",
        "model1 = SimpleCNN(NUM_CLASSES)\n",
        "optimizer = torch.optim.Adam(model1.parameters(), lr=1e-3)\n",
        "criterion = nn.KLDivLoss(reduction='batchmean')\n",
        "\n",
        "print(\"Training Model 1 (Regression)...\")\n",
        "train_model(model1, train_loader, val_loader, criterion, optimizer, epochs=8)"
      ]
    },
    {
      "cell_type": "code",
      "execution_count": 10,
      "metadata": {
        "id": "8cC4IowGHfes"
      },
      "outputs": [],
      "source": [
        "# save model\n",
        "torch.save(model1.state_dict(), 'models/model_proportion_complexified.pth')"
      ]
    },
    {
      "cell_type": "code",
      "execution_count": 11,
      "metadata": {
        "colab": {
          "base_uri": "https://localhost:8080/"
        },
        "id": "JCGItpGeL5T8",
        "outputId": "930d1e66-9984-40f2-f19d-111e37900a97"
      },
      "outputs": [
        {
          "name": "stdout",
          "output_type": "stream",
          "text": [
            "\n",
            "🔍 KL Divergence on validation set: 0.062228\n"
          ]
        }
      ],
      "source": [
        "# ================== EVALUATION - KL Divergence ==================\n",
        "def kl_divergence(y_true, y_pred, eps=1e-8):\n",
        "    y_true = np.clip(y_true, eps, 1)\n",
        "    y_pred = np.clip(y_pred, eps, 1)\n",
        "    return np.sum(y_true * np.log(y_true / y_pred))\n",
        "\n",
        "# Validation Dataset & Loader\n",
        "val_ds = ProportionDataset(val_imgs, val_y, transform=train_transform)\n",
        "val_loader = DataLoader(val_ds, batch_size=1)\n",
        "\n",
        "model1.eval()\n",
        "kl_scores = []\n",
        "with torch.no_grad():\n",
        "    for img, true_prop in val_loader:\n",
        "        img = img.to(DEVICE)\n",
        "        log_preds = model1(img).cpu().numpy()[0]\n",
        "        probs = np.exp(log_preds)\n",
        "        true_prop = true_prop.numpy()[0]\n",
        "        kl = kl_divergence(true_prop, probs)\n",
        "        kl_scores.append(kl)\n",
        "\n",
        "avg_kl = np.mean(kl_scores)\n",
        "print(f\"\\n🔍 KL Divergence on validation set: {avg_kl:.6f}\")\n"
      ]
    },
    {
      "cell_type": "code",
      "execution_count": 12,
      "metadata": {},
      "outputs": [],
      "source": [
        "class TestDataset(Dataset):\n",
        "    def __init__(self, image_paths, transform=None):\n",
        "        self.image_paths = image_paths\n",
        "        self.transform = transform\n",
        "\n",
        "    def __len__(self):\n",
        "        return len(self.image_paths)\n",
        "\n",
        "    def __getitem__(self, idx):\n",
        "        img = load_tif(self.image_paths[idx])\n",
        "        sample_id = os.path.splitext(os.path.basename(self.image_paths[idx]))[0]\n",
        "        if self.transform:\n",
        "            img = self.transform(image=img)['image']\n",
        "        return img, sample_id\n"
      ]
    },
    {
      "cell_type": "code",
      "execution_count": 13,
      "metadata": {},
      "outputs": [],
      "source": [
        "def predict_proportions(model, test_loader):\n",
        "    model.eval()\n",
        "    all_preds = []\n",
        "    all_ids = []\n",
        "\n",
        "    with torch.no_grad():\n",
        "        for img, sample_id in tqdm(test_loader, desc=\"Predicting on test set\"):\n",
        "            img = img.to(DEVICE)\n",
        "            log_probs = model(img)  # log_softmax en sortie\n",
        "            probs = torch.exp(log_probs).cpu().numpy().squeeze()  # on repasse en softmax\n",
        "            all_preds.append(probs)\n",
        "            all_ids.append(sample_id[0])\n",
        "\n",
        "    return all_ids, np.array(all_preds)"
      ]
    },
    {
      "cell_type": "code",
      "execution_count": null,
      "metadata": {},
      "outputs": [
        {
          "data": {
            "application/vnd.jupyter.widget-view+json": {
              "model_id": "3dddca12731840e3b525677312b95c3a",
              "version_major": 2,
              "version_minor": 0
            },
            "text/plain": [
              "Predicting on test set:   0%|          | 0/5043 [00:00<?, ?it/s]"
            ]
          },
          "metadata": {},
          "output_type": "display_data"
        },
        {
          "name": "stderr",
          "output_type": "stream",
          "text": [
            "c:\\Users\\emmae\\OneDrive\\Documents\\M2\\S2\\LASCAR\\.venv\\Lib\\site-packages\\rasterio\\__init__.py:368: NotGeoreferencedWarning: Dataset has no geotransform, gcps, or rpcs. The identity matrix will be returned.\n",
            "  dataset = DatasetReader(path, driver=driver, sharing=sharing, **kwargs)\n"
          ]
        }
      ],
      "source": [
        "# === Charger CSV test ===\n",
        "test_df = pd.read_csv(TEST_CSV_PATH)\n",
        "test_image_paths = [os.path.join(TEST_IMG_DIR, f\"{s}.tif\") for s in test_df['sample_id']]\n",
        "test_ds = TestDataset(test_image_paths, transform=train_transform)\n",
        "test_loader = DataLoader(test_ds, batch_size=1, shuffle=False)\n",
        "\n",
        "\n",
        "# Load model\n",
        "model1 = SimpleCNN(NUM_CLASSES)\n",
        "model1.load_state_dict(torch.load('models/model_proportion_complexified.pth'))\n",
        "# === Prédire ===\n",
        "sample_ids, preds = predict_proportions(model1, test_loader)\n"
      ]
    },
    {
      "cell_type": "code",
      "execution_count": null,
      "metadata": {},
      "outputs": [
        {
          "name": "stdout",
          "output_type": "stream",
          "text": [
            "✅ Fichier 'submission_regression_complexified.csv' généré.\n"
          ]
        }
      ],
      "source": [
        "# Normalisation en cas de légères erreurs de somme ≠ 1\n",
        "preds = preds / preds.sum(axis=1, keepdims=True)\n",
        "\n",
        "# DataFrame + export\n",
        "df_out = pd.DataFrame(preds, columns=selected_classes)\n",
        "df_out.insert(0, 'sample_id', sample_ids)\n",
        "df_out.to_csv(\"submission_regression_complexified.csv\", index=False)\n",
        "\n",
        "print(\"✅ Fichier 'submission_regression_complexified.csv' généré.\")\n"
      ]
    },
    {
      "cell_type": "markdown",
      "metadata": {
        "id": "y5mYYXyet9_A"
      },
      "source": [
        "**Modèle 2: Classification des pixeks (on prédit les masks)**"
      ]
    },
    {
      "cell_type": "code",
      "execution_count": null,
      "metadata": {
        "id": "RvcHlrcmuL1M"
      },
      "outputs": [],
      "source": [
        "# ================== DATASET 2 - Segmentation ==================\n",
        "class SegmentationDataset(Dataset):\n",
        "    def __init__(self, image_paths, mask_paths, transform=None):\n",
        "        self.image_paths = image_paths\n",
        "        self.mask_paths = mask_paths\n",
        "        self.transform = transform\n",
        "\n",
        "    def __len__(self):\n",
        "        return len(self.image_paths)\n",
        "\n",
        "    def __getitem__(self, idx):\n",
        "        img = load_tif(self.image_paths[idx])\n",
        "        mask = load_tif(self.mask_paths[idx])[:, :, 0]  # original mask\n",
        "\n",
        "        if self.transform:\n",
        "            augmented = self.transform(image=img, mask=mask)\n",
        "            img = augmented['image']\n",
        "            mask = augmented['mask']\n",
        "        return img, mask.long()\n",
        "\n",
        "# ================== MODEL 2 - Segmentation ==================\n",
        "class SimpleSegNet(nn.Module):\n",
        "    def __init__(self, in_channels, num_classes):\n",
        "        super().__init__()\n",
        "        \n",
        "        # Encoder\n",
        "        self.encoder = nn.Sequential(\n",
        "            nn.Conv2d(in_channels, 32, kernel_size=3, padding=1), nn.BatchNorm2d(32), nn.ReLU(),\n",
        "            nn.Conv2d(32, 32, kernel_size=3, padding=1), nn.BatchNorm2d(32), nn.ReLU(),\n",
        "            nn.MaxPool2d(2),  # 128x128\n",
        "\n",
        "            nn.Conv2d(32, 64, kernel_size=3, padding=1), nn.BatchNorm2d(64), nn.ReLU(),\n",
        "            nn.Conv2d(64, 64, kernel_size=3, padding=1), nn.BatchNorm2d(64), nn.ReLU(),\n",
        "            nn.MaxPool2d(2),  # 64x64\n",
        "\n",
        "            nn.Conv2d(64, 128, kernel_size=3, padding=1), nn.BatchNorm2d(128), nn.ReLU(),\n",
        "            nn.Conv2d(128, 128, kernel_size=3, padding=1), nn.BatchNorm2d(128), nn.ReLU(),\n",
        "            nn.MaxPool2d(2),  # 32x32\n",
        "        )\n",
        "\n",
        "        # Decoder\n",
        "        self.decoder = nn.Sequential(\n",
        "            nn.ConvTranspose2d(128, 64, kernel_size=2, stride=2),  # 64x64\n",
        "            nn.ReLU(),\n",
        "            nn.Conv2d(64, 64, kernel_size=3, padding=1), nn.BatchNorm2d(64), nn.ReLU(),\n",
        "\n",
        "            nn.ConvTranspose2d(64, 32, kernel_size=2, stride=2),  # 128x128\n",
        "            nn.ReLU(),\n",
        "            nn.Conv2d(32, 32, kernel_size=3, padding=1), nn.BatchNorm2d(32), nn.ReLU(),\n",
        "\n",
        "            nn.ConvTranspose2d(32, num_classes, kernel_size=2, stride=2),  # 256x256\n",
        "        )\n",
        "\n",
        "    def forward(self, x):\n",
        "        x = self.encoder(x)\n",
        "        x = self.decoder(x)\n",
        "        return x\n"
      ]
    },
    {
      "cell_type": "code",
      "execution_count": null,
      "metadata": {
        "colab": {
          "background_save": true,
          "base_uri": "https://localhost:8080/",
          "height": 66,
          "referenced_widgets": [
            "e402c9b6961a469a89f9d16949823920",
            "192ce8e7fc264562b9f0f9988373fdaa",
            "858bf617d0f144cd97c3469310300c15",
            "a57e023392264ef985e31b450b1a66cb",
            "26544b3c4674441c985b2b31e638f448",
            "be9b54ae4a4b41838e62fd76c7c1dd3c",
            "d6d1e244b0a9410392ca91498fb3f469",
            "4ed5010fc5814e41b1ad5459dc3db815",
            "69d1c2d1b3fb4ee3a41ce9e828185416",
            "6ea9573f818c40e8a805d1afb890860b",
            "d7d3af466d17487baceab42e2a2076e4"
          ]
        },
        "id": "u_4EnGFsuRs0",
        "outputId": "523bca40-32ca-45b3-bfbc-48a5d41c58f2"
      },
      "outputs": [
        {
          "name": "stdout",
          "output_type": "stream",
          "text": [
            "Training Model 2 (Segmentation)...\n"
          ]
        },
        {
          "data": {
            "application/vnd.jupyter.widget-view+json": {
              "model_id": "46b8518fd269450493a345724b80611e",
              "version_major": 2,
              "version_minor": 0
            },
            "text/plain": [
              "Epoch 1/4:   0%|          | 0/1849 [00:00<?, ?it/s]"
            ]
          },
          "metadata": {},
          "output_type": "display_data"
        },
        {
          "name": "stderr",
          "output_type": "stream",
          "text": [
            "c:\\Users\\emmae\\OneDrive\\Documents\\M2\\S2\\LASCAR\\.venv\\Lib\\site-packages\\rasterio\\__init__.py:368: NotGeoreferencedWarning: Dataset has no geotransform, gcps, or rpcs. The identity matrix will be returned.\n",
            "  dataset = DatasetReader(path, driver=driver, sharing=sharing, **kwargs)\n"
          ]
        },
        {
          "name": "stdout",
          "output_type": "stream",
          "text": [
            "Epoch 1: Train Loss = 0.7601 | Val Loss = 0.5628\n"
          ]
        },
        {
          "data": {
            "application/vnd.jupyter.widget-view+json": {
              "model_id": "9ccd6123027e4fe7a7b6fbc825c42835",
              "version_major": 2,
              "version_minor": 0
            },
            "text/plain": [
              "Epoch 2/4:   0%|          | 0/1849 [00:00<?, ?it/s]"
            ]
          },
          "metadata": {},
          "output_type": "display_data"
        },
        {
          "name": "stdout",
          "output_type": "stream",
          "text": [
            "Epoch 2: Train Loss = 0.5843 | Val Loss = 0.5154\n"
          ]
        },
        {
          "data": {
            "application/vnd.jupyter.widget-view+json": {
              "model_id": "e2ca0c114d91453693f702b5af361816",
              "version_major": 2,
              "version_minor": 0
            },
            "text/plain": [
              "Epoch 3/4:   0%|          | 0/1849 [00:00<?, ?it/s]"
            ]
          },
          "metadata": {},
          "output_type": "display_data"
        },
        {
          "name": "stdout",
          "output_type": "stream",
          "text": [
            "Epoch 3: Train Loss = 0.5428 | Val Loss = 0.5135\n"
          ]
        },
        {
          "data": {
            "application/vnd.jupyter.widget-view+json": {
              "model_id": "faf904c8ae354ae4bc1c298571891c3a",
              "version_major": 2,
              "version_minor": 0
            },
            "text/plain": [
              "Epoch 4/4:   0%|          | 0/1849 [00:00<?, ?it/s]"
            ]
          },
          "metadata": {},
          "output_type": "display_data"
        },
        {
          "name": "stdout",
          "output_type": "stream",
          "text": [
            "Epoch 4: Train Loss = 0.5222 | Val Loss = 0.5115\n"
          ]
        }
      ],
      "source": [
        "train_mask_paths = [os.path.join(TRAIN_MASK_DIR, f\"{Path(p).stem}.tif\") for p in train_imgs]\n",
        "val_mask_paths = [os.path.join(TRAIN_MASK_DIR, f\"{Path(p).stem}.tif\") for p in val_imgs]\n",
        "\n",
        "# Chargement des datasets pour la segmentation\n",
        "train_ds2 = SegmentationDataset(train_imgs, train_mask_paths, transform=train_transform)\n",
        "train_loader2 = DataLoader(train_ds2, batch_size=BATCH_SIZE, shuffle=True)\n",
        "\n",
        "val_ds2 = SegmentationDataset(val_imgs, val_mask_paths, transform=train_transform)\n",
        "val_loader2 = DataLoader(val_ds2, batch_size=1, shuffle=False)\n",
        "\n",
        "model2 = SimpleSegNet(in_channels=4, num_classes=NUM_CLASSES)\n",
        "model2.to(DEVICE)\n",
        "optimizer2 = torch.optim.Adam(model2.parameters(), lr=1e-3)\n",
        "criterion2 = nn.CrossEntropyLoss()\n",
        "\n",
        "### MODIF DEBUT - Validation loss pour segmentation ###\n",
        "def validate_segmentation(model, val_loader, criterion):\n",
        "    model.eval()\n",
        "    val_loss = 0\n",
        "    with torch.no_grad():\n",
        "        for imgs, masks in val_loader:\n",
        "            imgs, masks = imgs.to(DEVICE), masks.to(DEVICE)\n",
        "            out = model(imgs)\n",
        "            loss = criterion(out, masks)\n",
        "            val_loss += loss.item()\n",
        "    return val_loss / len(val_loader)\n",
        "### MODIF FIN ###\n",
        "\n",
        "\n",
        "print(\"Training Model 2 (Segmentation)...\")\n",
        "### MODIF DEBUT - Ajout val_loss pour modèle 2 ###\n",
        "for epoch in range(4):\n",
        "    model2.train()\n",
        "    total_loss = 0\n",
        "    loop = tqdm(train_loader2, desc=f\"Epoch {epoch+1}/4\")\n",
        "    for img, mask in loop:\n",
        "        img, mask = img.to(DEVICE), mask.to(DEVICE)\n",
        "        optimizer2.zero_grad()\n",
        "        out = model2(img)\n",
        "        loss = criterion2(out, mask)\n",
        "        loss.backward()\n",
        "        optimizer2.step()\n",
        "        total_loss += loss.item()\n",
        "        loop.set_postfix(loss=loss.item())\n",
        "\n",
        "    val_loss = validate_segmentation(model2, val_loader2, criterion2)\n",
        "    print(f\"Epoch {epoch+1}: Train Loss = {total_loss / len(train_loader2):.4f} | Val Loss = {val_loss:.4f}\")\n",
        "### MODIF FIN ###\n"
      ]
    },
    {
      "cell_type": "code",
      "execution_count": null,
      "metadata": {},
      "outputs": [
        {
          "name": "stderr",
          "output_type": "stream",
          "text": [
            "<>:2: SyntaxWarning: invalid escape sequence '\\m'\n",
            "<>:2: SyntaxWarning: invalid escape sequence '\\m'\n",
            "C:\\Users\\emmae\\AppData\\Local\\Temp\\ipykernel_64140\\121863385.py:2: SyntaxWarning: invalid escape sequence '\\m'\n",
            "  torch.save(model2.state_dict(), 'models\\model2_segmentation_final.pth')\n"
          ]
        }
      ],
      "source": [
        "# save model\n",
        "torch.save(model2.state_dict(), 'models\\model2_segmentation_final.pth')"
      ]
    },
    {
      "cell_type": "code",
      "execution_count": null,
      "metadata": {
        "id": "hle-Xz4huSnr"
      },
      "outputs": [
        {
          "data": {
            "application/vnd.jupyter.widget-view+json": {
              "model_id": "5a83524043ca4db9a2226e7b4688d43c",
              "version_major": 2,
              "version_minor": 0
            },
            "text/plain": [
              "Evaluating KL:   0%|          | 0/3699 [00:00<?, ?it/s]"
            ]
          },
          "metadata": {},
          "output_type": "display_data"
        },
        {
          "name": "stdout",
          "output_type": "stream",
          "text": [
            "\n",
            "🔍 KL Divergence on segmentation val set: 0.157424\n"
          ]
        }
      ],
      "source": [
        "# ================== POST-PROCESSING ==================\n",
        "def mask_to_proportions(mask_pred, num_classes):\n",
        "    flat = mask_pred.flatten()\n",
        "    props = [(flat == i).sum() / len(flat) for i in range(num_classes)]\n",
        "    return props\n",
        "\n",
        "# ================== METRIC - KL Divergence on Val ==================\n",
        "def kl_divergence(y_true, y_pred, eps=1e-8):\n",
        "    y_true = np.clip(y_true, eps, 1)\n",
        "    y_pred = np.clip(y_pred, eps, 1)\n",
        "    return np.sum(y_true * np.log(y_true / y_pred))\n",
        "\n",
        "model2.eval()\n",
        "kl_scores = []\n",
        "with torch.no_grad():\n",
        "    for img, mask in tqdm(val_loader2, desc=\"Evaluating KL\"):\n",
        "        img = img.to(DEVICE)\n",
        "        pred = model2(img)\n",
        "        pred_mask = torch.argmax(pred.squeeze(0), dim=0).cpu().numpy()\n",
        "        true_mask = mask.squeeze(0).numpy()\n",
        "\n",
        "        pred_prop = mask_to_proportions(pred_mask, NUM_CLASSES)\n",
        "        true_prop = mask_to_proportions(true_mask, NUM_CLASSES)\n",
        "\n",
        "        kl = kl_divergence(np.array(true_prop), np.array(pred_prop))\n",
        "        kl_scores.append(kl)\n",
        "\n",
        "avg_kl_seg = np.mean(kl_scores)\n",
        "print(f\"\\n🔍 KL Divergence on segmentation val set: {avg_kl_seg:.6f}\")"
      ]
    },
    {
      "cell_type": "code",
      "execution_count": null,
      "metadata": {},
      "outputs": [],
      "source": [
        "### PREDICT ON TEST ###\n",
        "class TestDataset(Dataset):\n",
        "    def __init__(self, image_paths, transform=None):\n",
        "        self.image_paths = image_paths\n",
        "        self.transform = transform\n",
        "\n",
        "    def __len__(self):\n",
        "        return len(self.image_paths)\n",
        "\n",
        "    def __getitem__(self, idx):\n",
        "        img = load_tif(self.image_paths[idx])\n",
        "        sample_id = os.path.splitext(os.path.basename(self.image_paths[idx]))[0]\n",
        "        if self.transform:\n",
        "            augmented = self.transform(image=img)\n",
        "            img = augmented['image']\n",
        "        return img, sample_id\n",
        "\n",
        "\n",
        "def predict_on_test(model, test_loader, num_classes):\n",
        "    model.eval()\n",
        "    all_preds = []\n",
        "    all_ids = []\n",
        "\n",
        "    with torch.no_grad():\n",
        "        for img, sample_id in tqdm(test_loader, desc=\"Predicting on test set\"):\n",
        "            img = img.to(DEVICE)\n",
        "            out = model(img)\n",
        "            soft = torch.softmax(out, dim=1).squeeze(0).cpu().numpy()  # [C, H, W]\n",
        "            proportions = soft.reshape(num_classes, -1).mean(axis=1)\n",
        "            all_preds.append(proportions)\n",
        "            all_ids.append(sample_id[0])\n",
        "\n",
        "    return all_ids, all_preds"
      ]
    },
    {
      "cell_type": "code",
      "execution_count": null,
      "metadata": {},
      "outputs": [
        {
          "name": "stderr",
          "output_type": "stream",
          "text": [
            "<>:8: SyntaxWarning: invalid escape sequence '\\m'\n",
            "<>:8: SyntaxWarning: invalid escape sequence '\\m'\n",
            "C:\\Users\\emmae\\AppData\\Local\\Temp\\ipykernel_64140\\1279243424.py:8: SyntaxWarning: invalid escape sequence '\\m'\n",
            "  model2.load_state_dict(torch.load(\"models\\model2_segmentation_final.pth\"))  # facultatif si sauvegardé\n"
          ]
        },
        {
          "data": {
            "application/vnd.jupyter.widget-view+json": {
              "model_id": "914b57c128164134a6f6f4d3ba85eb80",
              "version_major": 2,
              "version_minor": 0
            },
            "text/plain": [
              "Predicting on test set:   0%|          | 0/5043 [00:00<?, ?it/s]"
            ]
          },
          "metadata": {},
          "output_type": "display_data"
        },
        {
          "name": "stderr",
          "output_type": "stream",
          "text": [
            "c:\\Users\\emmae\\OneDrive\\Documents\\M2\\S2\\LASCAR\\.venv\\Lib\\site-packages\\rasterio\\__init__.py:368: NotGeoreferencedWarning: Dataset has no geotransform, gcps, or rpcs. The identity matrix will be returned.\n",
            "  dataset = DatasetReader(path, driver=driver, sharing=sharing, **kwargs)\n"
          ]
        }
      ],
      "source": [
        "# === Préparer test set ===\n",
        "test_df = pd.read_csv(TEST_CSV_PATH)  # fichier contenant les sample_id\n",
        "test_image_paths = [os.path.join(TEST_IMG_DIR, f\"{str(s)}.tif\") for s in test_df['sample_id']]\n",
        "test_ds = TestDataset(test_image_paths, transform=train_transform)\n",
        "test_loader = DataLoader(test_ds, batch_size=1, shuffle=False)\n",
        "\n",
        "# === Charger le modèle entraîné ===\n",
        "model2.load_state_dict(torch.load(\"models\\model2_segmentation_final.pth\"))  # facultatif si sauvegardé\n",
        "model2.eval()\n",
        "\n",
        "# === Prédire ===\n",
        "sample_ids, preds = predict_on_test(model2, test_loader, num_classes=NUM_CLASSES)\n"
      ]
    },
    {
      "cell_type": "code",
      "execution_count": null,
      "metadata": {},
      "outputs": [
        {
          "name": "stdout",
          "output_type": "stream",
          "text": [
            "✅ Sauvegarde dans submission_segmentation.csv terminée.\n"
          ]
        }
      ],
      "source": [
        "# Re-normalisation des prédictions sans no_data/clouds si jamais inclus\n",
        "preds = np.array(preds)\n",
        "preds = preds / preds.sum(axis=1, keepdims=True)  # Juste au cas où\n",
        "\n",
        "# Sauvegarde\n",
        "df_sub = pd.DataFrame(preds, columns=selected_classes)\n",
        "df_sub.insert(0, 'sample_id', sample_ids)\n",
        "df_sub.to_csv(\"submission_segmentation.csv\", index=False)\n",
        "print(\"✅ Sauvegarde dans submission_segmentation.csv terminée.\")\n"
      ]
    }
  ],
  "metadata": {
    "accelerator": "GPU",
    "colab": {
      "authorship_tag": "ABX9TyPga1pcfPwrF/1He2EwL5yK",
      "gpuType": "L4",
      "include_colab_link": true,
      "mount_file_id": "17CFd3rMu0yGE4cZFu2W2vPLHOmfvWCMD",
      "provenance": []
    },
    "kernelspec": {
      "display_name": ".venv",
      "language": "python",
      "name": "python3"
    },
    "language_info": {
      "codemirror_mode": {
        "name": "ipython",
        "version": 3
      },
      "file_extension": ".py",
      "mimetype": "text/x-python",
      "name": "python",
      "nbconvert_exporter": "python",
      "pygments_lexer": "ipython3",
      "version": "3.12.8"
    },
    "widgets": {
      "application/vnd.jupyter.widget-state+json": {
        "192ce8e7fc264562b9f0f9988373fdaa": {
          "model_module": "@jupyter-widgets/controls",
          "model_module_version": "1.5.0",
          "model_name": "HTMLModel",
          "state": {
            "_dom_classes": [],
            "_model_module": "@jupyter-widgets/controls",
            "_model_module_version": "1.5.0",
            "_model_name": "HTMLModel",
            "_view_count": null,
            "_view_module": "@jupyter-widgets/controls",
            "_view_module_version": "1.5.0",
            "_view_name": "HTMLView",
            "description": "",
            "description_tooltip": null,
            "layout": "IPY_MODEL_be9b54ae4a4b41838e62fd76c7c1dd3c",
            "placeholder": "​",
            "style": "IPY_MODEL_d6d1e244b0a9410392ca91498fb3f469",
            "value": "Epoch 1/5:   0%"
          }
        },
        "201a549ab09849eeba27e0f60a1ac0f1": {
          "model_module": "@jupyter-widgets/base",
          "model_module_version": "1.2.0",
          "model_name": "LayoutModel",
          "state": {
            "_model_module": "@jupyter-widgets/base",
            "_model_module_version": "1.2.0",
            "_model_name": "LayoutModel",
            "_view_count": null,
            "_view_module": "@jupyter-widgets/base",
            "_view_module_version": "1.2.0",
            "_view_name": "LayoutView",
            "align_content": null,
            "align_items": null,
            "align_self": null,
            "border": null,
            "bottom": null,
            "display": null,
            "flex": null,
            "flex_flow": null,
            "grid_area": null,
            "grid_auto_columns": null,
            "grid_auto_flow": null,
            "grid_auto_rows": null,
            "grid_column": null,
            "grid_gap": null,
            "grid_row": null,
            "grid_template_areas": null,
            "grid_template_columns": null,
            "grid_template_rows": null,
            "height": null,
            "justify_content": null,
            "justify_items": null,
            "left": null,
            "margin": null,
            "max_height": null,
            "max_width": null,
            "min_height": null,
            "min_width": null,
            "object_fit": null,
            "object_position": null,
            "order": null,
            "overflow": null,
            "overflow_x": null,
            "overflow_y": null,
            "padding": null,
            "right": null,
            "top": null,
            "visibility": null,
            "width": null
          }
        },
        "20cc1c6e114b4118b1d25e0e99086cf8": {
          "model_module": "@jupyter-widgets/controls",
          "model_module_version": "1.5.0",
          "model_name": "FloatProgressModel",
          "state": {
            "_dom_classes": [],
            "_model_module": "@jupyter-widgets/controls",
            "_model_module_version": "1.5.0",
            "_model_name": "FloatProgressModel",
            "_view_count": null,
            "_view_module": "@jupyter-widgets/controls",
            "_view_module_version": "1.5.0",
            "_view_name": "ProgressView",
            "bar_style": "success",
            "description": "",
            "description_tooltip": null,
            "layout": "IPY_MODEL_5a8effb4e96f43a8b03e2017ef71b66d",
            "max": 63,
            "min": 0,
            "orientation": "horizontal",
            "style": "IPY_MODEL_751b37afbeca40e88f5f239cc6b2b414",
            "value": 63
          }
        },
        "24429201e06d48ac9c788233aa34a97f": {
          "model_module": "@jupyter-widgets/base",
          "model_module_version": "1.2.0",
          "model_name": "LayoutModel",
          "state": {
            "_model_module": "@jupyter-widgets/base",
            "_model_module_version": "1.2.0",
            "_model_name": "LayoutModel",
            "_view_count": null,
            "_view_module": "@jupyter-widgets/base",
            "_view_module_version": "1.2.0",
            "_view_name": "LayoutView",
            "align_content": null,
            "align_items": null,
            "align_self": null,
            "border": null,
            "bottom": null,
            "display": null,
            "flex": null,
            "flex_flow": null,
            "grid_area": null,
            "grid_auto_columns": null,
            "grid_auto_flow": null,
            "grid_auto_rows": null,
            "grid_column": null,
            "grid_gap": null,
            "grid_row": null,
            "grid_template_areas": null,
            "grid_template_columns": null,
            "grid_template_rows": null,
            "height": null,
            "justify_content": null,
            "justify_items": null,
            "left": null,
            "margin": null,
            "max_height": null,
            "max_width": null,
            "min_height": null,
            "min_width": null,
            "object_fit": null,
            "object_position": null,
            "order": null,
            "overflow": null,
            "overflow_x": null,
            "overflow_y": null,
            "padding": null,
            "right": null,
            "top": null,
            "visibility": null,
            "width": null
          }
        },
        "26544b3c4674441c985b2b31e638f448": {
          "model_module": "@jupyter-widgets/base",
          "model_module_version": "1.2.0",
          "model_name": "LayoutModel",
          "state": {
            "_model_module": "@jupyter-widgets/base",
            "_model_module_version": "1.2.0",
            "_model_name": "LayoutModel",
            "_view_count": null,
            "_view_module": "@jupyter-widgets/base",
            "_view_module_version": "1.2.0",
            "_view_name": "LayoutView",
            "align_content": null,
            "align_items": null,
            "align_self": null,
            "border": null,
            "bottom": null,
            "display": null,
            "flex": null,
            "flex_flow": null,
            "grid_area": null,
            "grid_auto_columns": null,
            "grid_auto_flow": null,
            "grid_auto_rows": null,
            "grid_column": null,
            "grid_gap": null,
            "grid_row": null,
            "grid_template_areas": null,
            "grid_template_columns": null,
            "grid_template_rows": null,
            "height": null,
            "justify_content": null,
            "justify_items": null,
            "left": null,
            "margin": null,
            "max_height": null,
            "max_width": null,
            "min_height": null,
            "min_width": null,
            "object_fit": null,
            "object_position": null,
            "order": null,
            "overflow": null,
            "overflow_x": null,
            "overflow_y": null,
            "padding": null,
            "right": null,
            "top": null,
            "visibility": null,
            "width": null
          }
        },
        "2a7fc8f2f0cf4958a9c3d6e73300f329": {
          "model_module": "@jupyter-widgets/base",
          "model_module_version": "1.2.0",
          "model_name": "LayoutModel",
          "state": {
            "_model_module": "@jupyter-widgets/base",
            "_model_module_version": "1.2.0",
            "_model_name": "LayoutModel",
            "_view_count": null,
            "_view_module": "@jupyter-widgets/base",
            "_view_module_version": "1.2.0",
            "_view_name": "LayoutView",
            "align_content": null,
            "align_items": null,
            "align_self": null,
            "border": null,
            "bottom": null,
            "display": null,
            "flex": null,
            "flex_flow": null,
            "grid_area": null,
            "grid_auto_columns": null,
            "grid_auto_flow": null,
            "grid_auto_rows": null,
            "grid_column": null,
            "grid_gap": null,
            "grid_row": null,
            "grid_template_areas": null,
            "grid_template_columns": null,
            "grid_template_rows": null,
            "height": null,
            "justify_content": null,
            "justify_items": null,
            "left": null,
            "margin": null,
            "max_height": null,
            "max_width": null,
            "min_height": null,
            "min_width": null,
            "object_fit": null,
            "object_position": null,
            "order": null,
            "overflow": null,
            "overflow_x": null,
            "overflow_y": null,
            "padding": null,
            "right": null,
            "top": null,
            "visibility": null,
            "width": null
          }
        },
        "2f19344083764634b800a3933d5c5c89": {
          "model_module": "@jupyter-widgets/controls",
          "model_module_version": "1.5.0",
          "model_name": "ProgressStyleModel",
          "state": {
            "_model_module": "@jupyter-widgets/controls",
            "_model_module_version": "1.5.0",
            "_model_name": "ProgressStyleModel",
            "_view_count": null,
            "_view_module": "@jupyter-widgets/base",
            "_view_module_version": "1.2.0",
            "_view_name": "StyleView",
            "bar_color": null,
            "description_width": ""
          }
        },
        "37548a6d7cbb4b1fa3e3cca6f35b7f70": {
          "model_module": "@jupyter-widgets/controls",
          "model_module_version": "1.5.0",
          "model_name": "HBoxModel",
          "state": {
            "_dom_classes": [],
            "_model_module": "@jupyter-widgets/controls",
            "_model_module_version": "1.5.0",
            "_model_name": "HBoxModel",
            "_view_count": null,
            "_view_module": "@jupyter-widgets/controls",
            "_view_module_version": "1.5.0",
            "_view_name": "HBoxView",
            "box_style": "",
            "children": [
              "IPY_MODEL_5ec10c0f40374259a6c947f2c988c2ec",
              "IPY_MODEL_94086f79519144619c3437f94bf592c9",
              "IPY_MODEL_daa67a0ac8ae4d309815443cd41095a4"
            ],
            "layout": "IPY_MODEL_f09890d0d87f47d5adbac430f6b2207e"
          }
        },
        "3f73b7f9076c48e29e2f0fb87e9ac044": {
          "model_module": "@jupyter-widgets/base",
          "model_module_version": "1.2.0",
          "model_name": "LayoutModel",
          "state": {
            "_model_module": "@jupyter-widgets/base",
            "_model_module_version": "1.2.0",
            "_model_name": "LayoutModel",
            "_view_count": null,
            "_view_module": "@jupyter-widgets/base",
            "_view_module_version": "1.2.0",
            "_view_name": "LayoutView",
            "align_content": null,
            "align_items": null,
            "align_self": null,
            "border": null,
            "bottom": null,
            "display": null,
            "flex": null,
            "flex_flow": null,
            "grid_area": null,
            "grid_auto_columns": null,
            "grid_auto_flow": null,
            "grid_auto_rows": null,
            "grid_column": null,
            "grid_gap": null,
            "grid_row": null,
            "grid_template_areas": null,
            "grid_template_columns": null,
            "grid_template_rows": null,
            "height": null,
            "justify_content": null,
            "justify_items": null,
            "left": null,
            "margin": null,
            "max_height": null,
            "max_width": null,
            "min_height": null,
            "min_width": null,
            "object_fit": null,
            "object_position": null,
            "order": null,
            "overflow": null,
            "overflow_x": null,
            "overflow_y": null,
            "padding": null,
            "right": null,
            "top": null,
            "visibility": null,
            "width": null
          }
        },
        "43a79a6b420a44a2bab33b30a10840dc": {
          "model_module": "@jupyter-widgets/base",
          "model_module_version": "1.2.0",
          "model_name": "LayoutModel",
          "state": {
            "_model_module": "@jupyter-widgets/base",
            "_model_module_version": "1.2.0",
            "_model_name": "LayoutModel",
            "_view_count": null,
            "_view_module": "@jupyter-widgets/base",
            "_view_module_version": "1.2.0",
            "_view_name": "LayoutView",
            "align_content": null,
            "align_items": null,
            "align_self": null,
            "border": null,
            "bottom": null,
            "display": null,
            "flex": null,
            "flex_flow": null,
            "grid_area": null,
            "grid_auto_columns": null,
            "grid_auto_flow": null,
            "grid_auto_rows": null,
            "grid_column": null,
            "grid_gap": null,
            "grid_row": null,
            "grid_template_areas": null,
            "grid_template_columns": null,
            "grid_template_rows": null,
            "height": null,
            "justify_content": null,
            "justify_items": null,
            "left": null,
            "margin": null,
            "max_height": null,
            "max_width": null,
            "min_height": null,
            "min_width": null,
            "object_fit": null,
            "object_position": null,
            "order": null,
            "overflow": null,
            "overflow_x": null,
            "overflow_y": null,
            "padding": null,
            "right": null,
            "top": null,
            "visibility": null,
            "width": null
          }
        },
        "4839e5487dfb4a2da0c230158c13c04b": {
          "model_module": "@jupyter-widgets/base",
          "model_module_version": "1.2.0",
          "model_name": "LayoutModel",
          "state": {
            "_model_module": "@jupyter-widgets/base",
            "_model_module_version": "1.2.0",
            "_model_name": "LayoutModel",
            "_view_count": null,
            "_view_module": "@jupyter-widgets/base",
            "_view_module_version": "1.2.0",
            "_view_name": "LayoutView",
            "align_content": null,
            "align_items": null,
            "align_self": null,
            "border": null,
            "bottom": null,
            "display": null,
            "flex": null,
            "flex_flow": null,
            "grid_area": null,
            "grid_auto_columns": null,
            "grid_auto_flow": null,
            "grid_auto_rows": null,
            "grid_column": null,
            "grid_gap": null,
            "grid_row": null,
            "grid_template_areas": null,
            "grid_template_columns": null,
            "grid_template_rows": null,
            "height": null,
            "justify_content": null,
            "justify_items": null,
            "left": null,
            "margin": null,
            "max_height": null,
            "max_width": null,
            "min_height": null,
            "min_width": null,
            "object_fit": null,
            "object_position": null,
            "order": null,
            "overflow": null,
            "overflow_x": null,
            "overflow_y": null,
            "padding": null,
            "right": null,
            "top": null,
            "visibility": null,
            "width": null
          }
        },
        "4ed5010fc5814e41b1ad5459dc3db815": {
          "model_module": "@jupyter-widgets/base",
          "model_module_version": "1.2.0",
          "model_name": "LayoutModel",
          "state": {
            "_model_module": "@jupyter-widgets/base",
            "_model_module_version": "1.2.0",
            "_model_name": "LayoutModel",
            "_view_count": null,
            "_view_module": "@jupyter-widgets/base",
            "_view_module_version": "1.2.0",
            "_view_name": "LayoutView",
            "align_content": null,
            "align_items": null,
            "align_self": null,
            "border": null,
            "bottom": null,
            "display": null,
            "flex": null,
            "flex_flow": null,
            "grid_area": null,
            "grid_auto_columns": null,
            "grid_auto_flow": null,
            "grid_auto_rows": null,
            "grid_column": null,
            "grid_gap": null,
            "grid_row": null,
            "grid_template_areas": null,
            "grid_template_columns": null,
            "grid_template_rows": null,
            "height": null,
            "justify_content": null,
            "justify_items": null,
            "left": null,
            "margin": null,
            "max_height": null,
            "max_width": null,
            "min_height": null,
            "min_width": null,
            "object_fit": null,
            "object_position": null,
            "order": null,
            "overflow": null,
            "overflow_x": null,
            "overflow_y": null,
            "padding": null,
            "right": null,
            "top": null,
            "visibility": null,
            "width": null
          }
        },
        "52c0ccd73e9b4824882f4a05a76cd4db": {
          "model_module": "@jupyter-widgets/controls",
          "model_module_version": "1.5.0",
          "model_name": "HTMLModel",
          "state": {
            "_dom_classes": [],
            "_model_module": "@jupyter-widgets/controls",
            "_model_module_version": "1.5.0",
            "_model_name": "HTMLModel",
            "_view_count": null,
            "_view_module": "@jupyter-widgets/controls",
            "_view_module_version": "1.5.0",
            "_view_name": "HTMLView",
            "description": "",
            "description_tooltip": null,
            "layout": "IPY_MODEL_201a549ab09849eeba27e0f60a1ac0f1",
            "placeholder": "​",
            "style": "IPY_MODEL_b891dfc6d29145cd9e969e1361131e58",
            "value": "Epoch 1/3: 100%"
          }
        },
        "5972eda4493344e0b38a04b3c68a20f0": {
          "model_module": "@jupyter-widgets/controls",
          "model_module_version": "1.5.0",
          "model_name": "HTMLModel",
          "state": {
            "_dom_classes": [],
            "_model_module": "@jupyter-widgets/controls",
            "_model_module_version": "1.5.0",
            "_model_name": "HTMLModel",
            "_view_count": null,
            "_view_module": "@jupyter-widgets/controls",
            "_view_module_version": "1.5.0",
            "_view_name": "HTMLView",
            "description": "",
            "description_tooltip": null,
            "layout": "IPY_MODEL_af91142ea7e94b7cbd96e9ca09b59f75",
            "placeholder": "​",
            "style": "IPY_MODEL_7684fc1c01fd4bfb848f33e068b62ec8",
            "value": "Epoch 3/3: 100%"
          }
        },
        "5a8effb4e96f43a8b03e2017ef71b66d": {
          "model_module": "@jupyter-widgets/base",
          "model_module_version": "1.2.0",
          "model_name": "LayoutModel",
          "state": {
            "_model_module": "@jupyter-widgets/base",
            "_model_module_version": "1.2.0",
            "_model_name": "LayoutModel",
            "_view_count": null,
            "_view_module": "@jupyter-widgets/base",
            "_view_module_version": "1.2.0",
            "_view_name": "LayoutView",
            "align_content": null,
            "align_items": null,
            "align_self": null,
            "border": null,
            "bottom": null,
            "display": null,
            "flex": null,
            "flex_flow": null,
            "grid_area": null,
            "grid_auto_columns": null,
            "grid_auto_flow": null,
            "grid_auto_rows": null,
            "grid_column": null,
            "grid_gap": null,
            "grid_row": null,
            "grid_template_areas": null,
            "grid_template_columns": null,
            "grid_template_rows": null,
            "height": null,
            "justify_content": null,
            "justify_items": null,
            "left": null,
            "margin": null,
            "max_height": null,
            "max_width": null,
            "min_height": null,
            "min_width": null,
            "object_fit": null,
            "object_position": null,
            "order": null,
            "overflow": null,
            "overflow_x": null,
            "overflow_y": null,
            "padding": null,
            "right": null,
            "top": null,
            "visibility": null,
            "width": null
          }
        },
        "5ec10c0f40374259a6c947f2c988c2ec": {
          "model_module": "@jupyter-widgets/controls",
          "model_module_version": "1.5.0",
          "model_name": "HTMLModel",
          "state": {
            "_dom_classes": [],
            "_model_module": "@jupyter-widgets/controls",
            "_model_module_version": "1.5.0",
            "_model_name": "HTMLModel",
            "_view_count": null,
            "_view_module": "@jupyter-widgets/controls",
            "_view_module_version": "1.5.0",
            "_view_name": "HTMLView",
            "description": "",
            "description_tooltip": null,
            "layout": "IPY_MODEL_2a7fc8f2f0cf4958a9c3d6e73300f329",
            "placeholder": "​",
            "style": "IPY_MODEL_83ba6305ee6943129486f4b8feb67262",
            "value": "Epoch 2/3: 100%"
          }
        },
        "627da28d32094e1aba76d3e4ebb6bd90": {
          "model_module": "@jupyter-widgets/controls",
          "model_module_version": "1.5.0",
          "model_name": "FloatProgressModel",
          "state": {
            "_dom_classes": [],
            "_model_module": "@jupyter-widgets/controls",
            "_model_module_version": "1.5.0",
            "_model_name": "FloatProgressModel",
            "_view_count": null,
            "_view_module": "@jupyter-widgets/controls",
            "_view_module_version": "1.5.0",
            "_view_name": "ProgressView",
            "bar_style": "success",
            "description": "",
            "description_tooltip": null,
            "layout": "IPY_MODEL_43a79a6b420a44a2bab33b30a10840dc",
            "max": 63,
            "min": 0,
            "orientation": "horizontal",
            "style": "IPY_MODEL_2f19344083764634b800a3933d5c5c89",
            "value": 63
          }
        },
        "68de03e642e649b3b24c817e781bf61d": {
          "model_module": "@jupyter-widgets/base",
          "model_module_version": "1.2.0",
          "model_name": "LayoutModel",
          "state": {
            "_model_module": "@jupyter-widgets/base",
            "_model_module_version": "1.2.0",
            "_model_name": "LayoutModel",
            "_view_count": null,
            "_view_module": "@jupyter-widgets/base",
            "_view_module_version": "1.2.0",
            "_view_name": "LayoutView",
            "align_content": null,
            "align_items": null,
            "align_self": null,
            "border": null,
            "bottom": null,
            "display": null,
            "flex": null,
            "flex_flow": null,
            "grid_area": null,
            "grid_auto_columns": null,
            "grid_auto_flow": null,
            "grid_auto_rows": null,
            "grid_column": null,
            "grid_gap": null,
            "grid_row": null,
            "grid_template_areas": null,
            "grid_template_columns": null,
            "grid_template_rows": null,
            "height": null,
            "justify_content": null,
            "justify_items": null,
            "left": null,
            "margin": null,
            "max_height": null,
            "max_width": null,
            "min_height": null,
            "min_width": null,
            "object_fit": null,
            "object_position": null,
            "order": null,
            "overflow": null,
            "overflow_x": null,
            "overflow_y": null,
            "padding": null,
            "right": null,
            "top": null,
            "visibility": null,
            "width": null
          }
        },
        "69d1c2d1b3fb4ee3a41ce9e828185416": {
          "model_module": "@jupyter-widgets/controls",
          "model_module_version": "1.5.0",
          "model_name": "ProgressStyleModel",
          "state": {
            "_model_module": "@jupyter-widgets/controls",
            "_model_module_version": "1.5.0",
            "_model_name": "ProgressStyleModel",
            "_view_count": null,
            "_view_module": "@jupyter-widgets/base",
            "_view_module_version": "1.2.0",
            "_view_name": "StyleView",
            "bar_color": null,
            "description_width": ""
          }
        },
        "6ea9573f818c40e8a805d1afb890860b": {
          "model_module": "@jupyter-widgets/base",
          "model_module_version": "1.2.0",
          "model_name": "LayoutModel",
          "state": {
            "_model_module": "@jupyter-widgets/base",
            "_model_module_version": "1.2.0",
            "_model_name": "LayoutModel",
            "_view_count": null,
            "_view_module": "@jupyter-widgets/base",
            "_view_module_version": "1.2.0",
            "_view_name": "LayoutView",
            "align_content": null,
            "align_items": null,
            "align_self": null,
            "border": null,
            "bottom": null,
            "display": null,
            "flex": null,
            "flex_flow": null,
            "grid_area": null,
            "grid_auto_columns": null,
            "grid_auto_flow": null,
            "grid_auto_rows": null,
            "grid_column": null,
            "grid_gap": null,
            "grid_row": null,
            "grid_template_areas": null,
            "grid_template_columns": null,
            "grid_template_rows": null,
            "height": null,
            "justify_content": null,
            "justify_items": null,
            "left": null,
            "margin": null,
            "max_height": null,
            "max_width": null,
            "min_height": null,
            "min_width": null,
            "object_fit": null,
            "object_position": null,
            "order": null,
            "overflow": null,
            "overflow_x": null,
            "overflow_y": null,
            "padding": null,
            "right": null,
            "top": null,
            "visibility": null,
            "width": null
          }
        },
        "751b37afbeca40e88f5f239cc6b2b414": {
          "model_module": "@jupyter-widgets/controls",
          "model_module_version": "1.5.0",
          "model_name": "ProgressStyleModel",
          "state": {
            "_model_module": "@jupyter-widgets/controls",
            "_model_module_version": "1.5.0",
            "_model_name": "ProgressStyleModel",
            "_view_count": null,
            "_view_module": "@jupyter-widgets/base",
            "_view_module_version": "1.2.0",
            "_view_name": "StyleView",
            "bar_color": null,
            "description_width": ""
          }
        },
        "7684fc1c01fd4bfb848f33e068b62ec8": {
          "model_module": "@jupyter-widgets/controls",
          "model_module_version": "1.5.0",
          "model_name": "DescriptionStyleModel",
          "state": {
            "_model_module": "@jupyter-widgets/controls",
            "_model_module_version": "1.5.0",
            "_model_name": "DescriptionStyleModel",
            "_view_count": null,
            "_view_module": "@jupyter-widgets/base",
            "_view_module_version": "1.2.0",
            "_view_name": "StyleView",
            "description_width": ""
          }
        },
        "83ba6305ee6943129486f4b8feb67262": {
          "model_module": "@jupyter-widgets/controls",
          "model_module_version": "1.5.0",
          "model_name": "DescriptionStyleModel",
          "state": {
            "_model_module": "@jupyter-widgets/controls",
            "_model_module_version": "1.5.0",
            "_model_name": "DescriptionStyleModel",
            "_view_count": null,
            "_view_module": "@jupyter-widgets/base",
            "_view_module_version": "1.2.0",
            "_view_name": "StyleView",
            "description_width": ""
          }
        },
        "858bf617d0f144cd97c3469310300c15": {
          "model_module": "@jupyter-widgets/controls",
          "model_module_version": "1.5.0",
          "model_name": "FloatProgressModel",
          "state": {
            "_dom_classes": [],
            "_model_module": "@jupyter-widgets/controls",
            "_model_module_version": "1.5.0",
            "_model_name": "FloatProgressModel",
            "_view_count": null,
            "_view_module": "@jupyter-widgets/controls",
            "_view_module_version": "1.5.0",
            "_view_name": "ProgressView",
            "bar_style": "",
            "description": "",
            "description_tooltip": null,
            "layout": "IPY_MODEL_4ed5010fc5814e41b1ad5459dc3db815",
            "max": 25,
            "min": 0,
            "orientation": "horizontal",
            "style": "IPY_MODEL_69d1c2d1b3fb4ee3a41ce9e828185416",
            "value": 0
          }
        },
        "94086f79519144619c3437f94bf592c9": {
          "model_module": "@jupyter-widgets/controls",
          "model_module_version": "1.5.0",
          "model_name": "FloatProgressModel",
          "state": {
            "_dom_classes": [],
            "_model_module": "@jupyter-widgets/controls",
            "_model_module_version": "1.5.0",
            "_model_name": "FloatProgressModel",
            "_view_count": null,
            "_view_module": "@jupyter-widgets/controls",
            "_view_module_version": "1.5.0",
            "_view_name": "ProgressView",
            "bar_style": "success",
            "description": "",
            "description_tooltip": null,
            "layout": "IPY_MODEL_c6e2aee5d6a248bebf30a0730c3ba370",
            "max": 63,
            "min": 0,
            "orientation": "horizontal",
            "style": "IPY_MODEL_9e3eca93cffd47a380c7581224ed8184",
            "value": 63
          }
        },
        "9e3eca93cffd47a380c7581224ed8184": {
          "model_module": "@jupyter-widgets/controls",
          "model_module_version": "1.5.0",
          "model_name": "ProgressStyleModel",
          "state": {
            "_model_module": "@jupyter-widgets/controls",
            "_model_module_version": "1.5.0",
            "_model_name": "ProgressStyleModel",
            "_view_count": null,
            "_view_module": "@jupyter-widgets/base",
            "_view_module_version": "1.2.0",
            "_view_name": "StyleView",
            "bar_color": null,
            "description_width": ""
          }
        },
        "a57e023392264ef985e31b450b1a66cb": {
          "model_module": "@jupyter-widgets/controls",
          "model_module_version": "1.5.0",
          "model_name": "HTMLModel",
          "state": {
            "_dom_classes": [],
            "_model_module": "@jupyter-widgets/controls",
            "_model_module_version": "1.5.0",
            "_model_name": "HTMLModel",
            "_view_count": null,
            "_view_module": "@jupyter-widgets/controls",
            "_view_module_version": "1.5.0",
            "_view_name": "HTMLView",
            "description": "",
            "description_tooltip": null,
            "layout": "IPY_MODEL_6ea9573f818c40e8a805d1afb890860b",
            "placeholder": "​",
            "style": "IPY_MODEL_d7d3af466d17487baceab42e2a2076e4",
            "value": " 0/25 [00:00&lt;?, ?it/s]"
          }
        },
        "ac2baec221374bf496146fcb13c0f7fd": {
          "model_module": "@jupyter-widgets/controls",
          "model_module_version": "1.5.0",
          "model_name": "DescriptionStyleModel",
          "state": {
            "_model_module": "@jupyter-widgets/controls",
            "_model_module_version": "1.5.0",
            "_model_name": "DescriptionStyleModel",
            "_view_count": null,
            "_view_module": "@jupyter-widgets/base",
            "_view_module_version": "1.2.0",
            "_view_name": "StyleView",
            "description_width": ""
          }
        },
        "af91142ea7e94b7cbd96e9ca09b59f75": {
          "model_module": "@jupyter-widgets/base",
          "model_module_version": "1.2.0",
          "model_name": "LayoutModel",
          "state": {
            "_model_module": "@jupyter-widgets/base",
            "_model_module_version": "1.2.0",
            "_model_name": "LayoutModel",
            "_view_count": null,
            "_view_module": "@jupyter-widgets/base",
            "_view_module_version": "1.2.0",
            "_view_name": "LayoutView",
            "align_content": null,
            "align_items": null,
            "align_self": null,
            "border": null,
            "bottom": null,
            "display": null,
            "flex": null,
            "flex_flow": null,
            "grid_area": null,
            "grid_auto_columns": null,
            "grid_auto_flow": null,
            "grid_auto_rows": null,
            "grid_column": null,
            "grid_gap": null,
            "grid_row": null,
            "grid_template_areas": null,
            "grid_template_columns": null,
            "grid_template_rows": null,
            "height": null,
            "justify_content": null,
            "justify_items": null,
            "left": null,
            "margin": null,
            "max_height": null,
            "max_width": null,
            "min_height": null,
            "min_width": null,
            "object_fit": null,
            "object_position": null,
            "order": null,
            "overflow": null,
            "overflow_x": null,
            "overflow_y": null,
            "padding": null,
            "right": null,
            "top": null,
            "visibility": null,
            "width": null
          }
        },
        "b3cb6335066148448245c138690f1aa5": {
          "model_module": "@jupyter-widgets/controls",
          "model_module_version": "1.5.0",
          "model_name": "HBoxModel",
          "state": {
            "_dom_classes": [],
            "_model_module": "@jupyter-widgets/controls",
            "_model_module_version": "1.5.0",
            "_model_name": "HBoxModel",
            "_view_count": null,
            "_view_module": "@jupyter-widgets/controls",
            "_view_module_version": "1.5.0",
            "_view_name": "HBoxView",
            "box_style": "",
            "children": [
              "IPY_MODEL_5972eda4493344e0b38a04b3c68a20f0",
              "IPY_MODEL_627da28d32094e1aba76d3e4ebb6bd90",
              "IPY_MODEL_cad45dbe7ecd4f04b1005bc1efc896fa"
            ],
            "layout": "IPY_MODEL_3f73b7f9076c48e29e2f0fb87e9ac044"
          }
        },
        "b891dfc6d29145cd9e969e1361131e58": {
          "model_module": "@jupyter-widgets/controls",
          "model_module_version": "1.5.0",
          "model_name": "DescriptionStyleModel",
          "state": {
            "_model_module": "@jupyter-widgets/controls",
            "_model_module_version": "1.5.0",
            "_model_name": "DescriptionStyleModel",
            "_view_count": null,
            "_view_module": "@jupyter-widgets/base",
            "_view_module_version": "1.2.0",
            "_view_name": "StyleView",
            "description_width": ""
          }
        },
        "b9faa40b5f114c7ea3bb4da1265227db": {
          "model_module": "@jupyter-widgets/controls",
          "model_module_version": "1.5.0",
          "model_name": "DescriptionStyleModel",
          "state": {
            "_model_module": "@jupyter-widgets/controls",
            "_model_module_version": "1.5.0",
            "_model_name": "DescriptionStyleModel",
            "_view_count": null,
            "_view_module": "@jupyter-widgets/base",
            "_view_module_version": "1.2.0",
            "_view_name": "StyleView",
            "description_width": ""
          }
        },
        "be9b54ae4a4b41838e62fd76c7c1dd3c": {
          "model_module": "@jupyter-widgets/base",
          "model_module_version": "1.2.0",
          "model_name": "LayoutModel",
          "state": {
            "_model_module": "@jupyter-widgets/base",
            "_model_module_version": "1.2.0",
            "_model_name": "LayoutModel",
            "_view_count": null,
            "_view_module": "@jupyter-widgets/base",
            "_view_module_version": "1.2.0",
            "_view_name": "LayoutView",
            "align_content": null,
            "align_items": null,
            "align_self": null,
            "border": null,
            "bottom": null,
            "display": null,
            "flex": null,
            "flex_flow": null,
            "grid_area": null,
            "grid_auto_columns": null,
            "grid_auto_flow": null,
            "grid_auto_rows": null,
            "grid_column": null,
            "grid_gap": null,
            "grid_row": null,
            "grid_template_areas": null,
            "grid_template_columns": null,
            "grid_template_rows": null,
            "height": null,
            "justify_content": null,
            "justify_items": null,
            "left": null,
            "margin": null,
            "max_height": null,
            "max_width": null,
            "min_height": null,
            "min_width": null,
            "object_fit": null,
            "object_position": null,
            "order": null,
            "overflow": null,
            "overflow_x": null,
            "overflow_y": null,
            "padding": null,
            "right": null,
            "top": null,
            "visibility": null,
            "width": null
          }
        },
        "c6e2aee5d6a248bebf30a0730c3ba370": {
          "model_module": "@jupyter-widgets/base",
          "model_module_version": "1.2.0",
          "model_name": "LayoutModel",
          "state": {
            "_model_module": "@jupyter-widgets/base",
            "_model_module_version": "1.2.0",
            "_model_name": "LayoutModel",
            "_view_count": null,
            "_view_module": "@jupyter-widgets/base",
            "_view_module_version": "1.2.0",
            "_view_name": "LayoutView",
            "align_content": null,
            "align_items": null,
            "align_self": null,
            "border": null,
            "bottom": null,
            "display": null,
            "flex": null,
            "flex_flow": null,
            "grid_area": null,
            "grid_auto_columns": null,
            "grid_auto_flow": null,
            "grid_auto_rows": null,
            "grid_column": null,
            "grid_gap": null,
            "grid_row": null,
            "grid_template_areas": null,
            "grid_template_columns": null,
            "grid_template_rows": null,
            "height": null,
            "justify_content": null,
            "justify_items": null,
            "left": null,
            "margin": null,
            "max_height": null,
            "max_width": null,
            "min_height": null,
            "min_width": null,
            "object_fit": null,
            "object_position": null,
            "order": null,
            "overflow": null,
            "overflow_x": null,
            "overflow_y": null,
            "padding": null,
            "right": null,
            "top": null,
            "visibility": null,
            "width": null
          }
        },
        "cad45dbe7ecd4f04b1005bc1efc896fa": {
          "model_module": "@jupyter-widgets/controls",
          "model_module_version": "1.5.0",
          "model_name": "HTMLModel",
          "state": {
            "_dom_classes": [],
            "_model_module": "@jupyter-widgets/controls",
            "_model_module_version": "1.5.0",
            "_model_name": "HTMLModel",
            "_view_count": null,
            "_view_module": "@jupyter-widgets/controls",
            "_view_module_version": "1.5.0",
            "_view_name": "HTMLView",
            "description": "",
            "description_tooltip": null,
            "layout": "IPY_MODEL_e3fcbef2dc5a40c59e2c50c50e7e8239",
            "placeholder": "​",
            "style": "IPY_MODEL_efe0482098c04e408fcaa4c12ec49715",
            "value": " 63/63 [21:09&lt;00:00,  2.38s/it, loss=0.0143]"
          }
        },
        "d6d1e244b0a9410392ca91498fb3f469": {
          "model_module": "@jupyter-widgets/controls",
          "model_module_version": "1.5.0",
          "model_name": "DescriptionStyleModel",
          "state": {
            "_model_module": "@jupyter-widgets/controls",
            "_model_module_version": "1.5.0",
            "_model_name": "DescriptionStyleModel",
            "_view_count": null,
            "_view_module": "@jupyter-widgets/base",
            "_view_module_version": "1.2.0",
            "_view_name": "StyleView",
            "description_width": ""
          }
        },
        "d7d3af466d17487baceab42e2a2076e4": {
          "model_module": "@jupyter-widgets/controls",
          "model_module_version": "1.5.0",
          "model_name": "DescriptionStyleModel",
          "state": {
            "_model_module": "@jupyter-widgets/controls",
            "_model_module_version": "1.5.0",
            "_model_name": "DescriptionStyleModel",
            "_view_count": null,
            "_view_module": "@jupyter-widgets/base",
            "_view_module_version": "1.2.0",
            "_view_name": "StyleView",
            "description_width": ""
          }
        },
        "daa67a0ac8ae4d309815443cd41095a4": {
          "model_module": "@jupyter-widgets/controls",
          "model_module_version": "1.5.0",
          "model_name": "HTMLModel",
          "state": {
            "_dom_classes": [],
            "_model_module": "@jupyter-widgets/controls",
            "_model_module_version": "1.5.0",
            "_model_name": "HTMLModel",
            "_view_count": null,
            "_view_module": "@jupyter-widgets/controls",
            "_view_module_version": "1.5.0",
            "_view_name": "HTMLView",
            "description": "",
            "description_tooltip": null,
            "layout": "IPY_MODEL_24429201e06d48ac9c788233aa34a97f",
            "placeholder": "​",
            "style": "IPY_MODEL_b9faa40b5f114c7ea3bb4da1265227db",
            "value": " 63/63 [05:56&lt;00:00,  4.23s/it, loss=0.0201]"
          }
        },
        "de37066cf9674164a96e049c4dea6b94": {
          "model_module": "@jupyter-widgets/controls",
          "model_module_version": "1.5.0",
          "model_name": "HTMLModel",
          "state": {
            "_dom_classes": [],
            "_model_module": "@jupyter-widgets/controls",
            "_model_module_version": "1.5.0",
            "_model_name": "HTMLModel",
            "_view_count": null,
            "_view_module": "@jupyter-widgets/controls",
            "_view_module_version": "1.5.0",
            "_view_name": "HTMLView",
            "description": "",
            "description_tooltip": null,
            "layout": "IPY_MODEL_68de03e642e649b3b24c817e781bf61d",
            "placeholder": "​",
            "style": "IPY_MODEL_ac2baec221374bf496146fcb13c0f7fd",
            "value": " 63/63 [13:28&lt;00:00, 10.41s/it, loss=0.0112]"
          }
        },
        "e3fcbef2dc5a40c59e2c50c50e7e8239": {
          "model_module": "@jupyter-widgets/base",
          "model_module_version": "1.2.0",
          "model_name": "LayoutModel",
          "state": {
            "_model_module": "@jupyter-widgets/base",
            "_model_module_version": "1.2.0",
            "_model_name": "LayoutModel",
            "_view_count": null,
            "_view_module": "@jupyter-widgets/base",
            "_view_module_version": "1.2.0",
            "_view_name": "LayoutView",
            "align_content": null,
            "align_items": null,
            "align_self": null,
            "border": null,
            "bottom": null,
            "display": null,
            "flex": null,
            "flex_flow": null,
            "grid_area": null,
            "grid_auto_columns": null,
            "grid_auto_flow": null,
            "grid_auto_rows": null,
            "grid_column": null,
            "grid_gap": null,
            "grid_row": null,
            "grid_template_areas": null,
            "grid_template_columns": null,
            "grid_template_rows": null,
            "height": null,
            "justify_content": null,
            "justify_items": null,
            "left": null,
            "margin": null,
            "max_height": null,
            "max_width": null,
            "min_height": null,
            "min_width": null,
            "object_fit": null,
            "object_position": null,
            "order": null,
            "overflow": null,
            "overflow_x": null,
            "overflow_y": null,
            "padding": null,
            "right": null,
            "top": null,
            "visibility": null,
            "width": null
          }
        },
        "e402c9b6961a469a89f9d16949823920": {
          "model_module": "@jupyter-widgets/controls",
          "model_module_version": "1.5.0",
          "model_name": "HBoxModel",
          "state": {
            "_dom_classes": [],
            "_model_module": "@jupyter-widgets/controls",
            "_model_module_version": "1.5.0",
            "_model_name": "HBoxModel",
            "_view_count": null,
            "_view_module": "@jupyter-widgets/controls",
            "_view_module_version": "1.5.0",
            "_view_name": "HBoxView",
            "box_style": "",
            "children": [
              "IPY_MODEL_192ce8e7fc264562b9f0f9988373fdaa",
              "IPY_MODEL_858bf617d0f144cd97c3469310300c15",
              "IPY_MODEL_a57e023392264ef985e31b450b1a66cb"
            ],
            "layout": "IPY_MODEL_26544b3c4674441c985b2b31e638f448"
          }
        },
        "ebe419efab7d45448e54e0fe297ce362": {
          "model_module": "@jupyter-widgets/controls",
          "model_module_version": "1.5.0",
          "model_name": "HBoxModel",
          "state": {
            "_dom_classes": [],
            "_model_module": "@jupyter-widgets/controls",
            "_model_module_version": "1.5.0",
            "_model_name": "HBoxModel",
            "_view_count": null,
            "_view_module": "@jupyter-widgets/controls",
            "_view_module_version": "1.5.0",
            "_view_name": "HBoxView",
            "box_style": "",
            "children": [
              "IPY_MODEL_52c0ccd73e9b4824882f4a05a76cd4db",
              "IPY_MODEL_20cc1c6e114b4118b1d25e0e99086cf8",
              "IPY_MODEL_de37066cf9674164a96e049c4dea6b94"
            ],
            "layout": "IPY_MODEL_4839e5487dfb4a2da0c230158c13c04b"
          }
        },
        "efe0482098c04e408fcaa4c12ec49715": {
          "model_module": "@jupyter-widgets/controls",
          "model_module_version": "1.5.0",
          "model_name": "DescriptionStyleModel",
          "state": {
            "_model_module": "@jupyter-widgets/controls",
            "_model_module_version": "1.5.0",
            "_model_name": "DescriptionStyleModel",
            "_view_count": null,
            "_view_module": "@jupyter-widgets/base",
            "_view_module_version": "1.2.0",
            "_view_name": "StyleView",
            "description_width": ""
          }
        },
        "f09890d0d87f47d5adbac430f6b2207e": {
          "model_module": "@jupyter-widgets/base",
          "model_module_version": "1.2.0",
          "model_name": "LayoutModel",
          "state": {
            "_model_module": "@jupyter-widgets/base",
            "_model_module_version": "1.2.0",
            "_model_name": "LayoutModel",
            "_view_count": null,
            "_view_module": "@jupyter-widgets/base",
            "_view_module_version": "1.2.0",
            "_view_name": "LayoutView",
            "align_content": null,
            "align_items": null,
            "align_self": null,
            "border": null,
            "bottom": null,
            "display": null,
            "flex": null,
            "flex_flow": null,
            "grid_area": null,
            "grid_auto_columns": null,
            "grid_auto_flow": null,
            "grid_auto_rows": null,
            "grid_column": null,
            "grid_gap": null,
            "grid_row": null,
            "grid_template_areas": null,
            "grid_template_columns": null,
            "grid_template_rows": null,
            "height": null,
            "justify_content": null,
            "justify_items": null,
            "left": null,
            "margin": null,
            "max_height": null,
            "max_width": null,
            "min_height": null,
            "min_width": null,
            "object_fit": null,
            "object_position": null,
            "order": null,
            "overflow": null,
            "overflow_x": null,
            "overflow_y": null,
            "padding": null,
            "right": null,
            "top": null,
            "visibility": null,
            "width": null
          }
        }
      }
    }
  },
  "nbformat": 4,
  "nbformat_minor": 0
}
